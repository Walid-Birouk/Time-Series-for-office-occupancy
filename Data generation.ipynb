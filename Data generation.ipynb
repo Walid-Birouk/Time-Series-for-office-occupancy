{
 "cells": [
  {
   "cell_type": "markdown",
   "metadata": {},
   "source": [
    "# Introduction\n",
    "\n",
    "This Jupyter notebook demonstrates a comprehensive approach for generating synthetic data to simulate office occupancy over an entire year. The aim is to model real-world scenarios that can impact occupancy, such as:\n",
    "\n",
    "  - Meeting room bookings.\n",
    "  - Event activities.\n",
    "  - Staff attendance.\n",
    "\n",
    "With considerations for external factors like `Transportation availability` and `Weather conditions`. The generated data will serve as a basis for training a predictive model using `Facebook's Prophet`, allowing us to forecast office occupancy with nuanced understanding and prediction capabilities. This document will guide you through the process of data generation, explaining the purpose and functionality of each code block, ensuring a clear understanding of how synthetic data can be utilized for occupancy prediction."
   ]
  },
  {
   "cell_type": "markdown",
   "metadata": {},
   "source": [
    "### Essential Python and Pandas Setup\n",
    "\n",
    "Before we dive into generating our synthetic data, we start by importing the necessary Python libraries and modules. This setup includes:\n",
    "\n",
    "- `numpy` and `random`: For numerical operations and generating random values to simulate variability in our data.\n",
    "- `datetime.time`: To work with time objects, essential for scheduling meetings and events.\n",
    "- `pandas`: Our primary library for data manipulation and analysis, enabling us to create and handle datasets effectively.\n",
    "- `Holiday` and `AbstractHolidayCalendar` from `pandas.tseries.holiday`: These classes allow us to define custom holiday calendars based on specific rules, crucial for accurately modeling business days in Belgium.\n",
    "- `CustomBusinessDay` from `pandas.tseries.offsets`: This tool helps us to create a custom business day offset, excluding weekends and defined holidays, ensuring our data generation aligns with actual office operation days.\n",
    "\n",
    "By setting up these libraries, we lay the groundwork for creating a realistic synthetic dataset that mirrors the complexity of real-world office occupancy scenarios.\n"
   ]
  },
  {
   "cell_type": "code",
   "execution_count": 23,
   "metadata": {},
   "outputs": [],
   "source": [
    "import numpy as np\n",
    "import random\n",
    "from datetime import time\n",
    "import pandas as pd\n",
    "from pandas.tseries.holiday import Holiday, AbstractHolidayCalendar\n",
    "from pandas.tseries.offsets import CustomBusinessDay\n",
    "\n"
   ]
  },
  {
   "cell_type": "markdown",
   "metadata": {},
   "source": [
    "### Defining a Custom Holiday Calendar for Belgium\n",
    "\n",
    "To accurately simulate office occupancy, it's crucial to account for public holidays when the office might be closed. This is accomplished by defining a custom holiday calendar for Belgium, which will be used to exclude these holidays from our synthetic data generation process.\n",
    "\n",
    "#### How It Works:\n",
    "\n",
    "- **BelgiumHolidayCalendar Class**: Inherits from `AbstractHolidayCalendar`, allowing us to specify the rules that define public holidays in Belgium. Each holiday is created using the `Holiday` class, where we specify the name of the holiday, and the month and day it occurs.\n",
    "- **Holidays Included**: The calendar includes a range of Belgian public holidays, from \"New Year's Day\" on January 1st to \"Christmas Day\" on December 25th, among others. This comprehensive list ensures our dataset reflects the actual days the office would be closed.\n",
    "- **Custom Business Day Offset**: With the `belgium_business_day` variable, we create a custom business day offset that excludes weekends and the defined Belgian holidays. This offset is pivotal in generating a realistic timeline for our synthetic data, focusing on actual working days.\n",
    "\n",
    "By incorporating this custom holiday calendar in our data generation process, we ensure that the simulated office occupancy data reflects the typical operational schedule of an office in Belgium, enhancing the realism and accuracy of our predictive modeling efforts.\n"
   ]
  },
  {
   "cell_type": "code",
   "execution_count": 24,
   "metadata": {},
   "outputs": [],
   "source": [
    "\n",
    "\n",
    "# Custom Holiday Calendar for Belgium\n",
    "class BelgiumHolidayCalendar(AbstractHolidayCalendar):\n",
    "    rules = [\n",
    "        Holiday(\"New Year's Day\", month=1, day=1),\n",
    "        Holiday(\"Easter Monday\", month=4, day=17),\n",
    "        Holiday(\"Labor Day\", month=5, day=1),\n",
    "        Holiday(\"Ascension Day\", month=5, day=25),\n",
    "        Holiday(\"Whit Monday\", month=6, day=5),\n",
    "        Holiday(\"Belgium National Day\", month=7, day=21),\n",
    "        Holiday(\"Assumption of Mary\", month=8, day=15),\n",
    "        Holiday(\"All Saints' Day\", month=11, day=1),\n",
    "        Holiday(\"Armistice Day\", month=11, day=11),\n",
    "        Holiday(\"Christmas Day\", month=12, day=25)\n",
    "    ]\n",
    "\n",
    "# Custom business day to exclude weekends and Belgian holidays\n",
    "belgium_business_day = CustomBusinessDay(calendar=BelgiumHolidayCalendar())\n"
   ]
  },
  {
   "cell_type": "markdown",
   "metadata": {},
   "source": [
    "### Simulating External Factors: Transportation and Weather\n",
    "\n",
    "To enhance the realism of our synthetic office occupancy data, we simulate external factors that can significantly impact staff attendance: transportation availability and weather conditions. Understanding these elements allows us to adjust our attendance figures to reflect real-world scenarios more accurately.\n",
    "\n",
    "#### Transportation Availability"
   ]
  },
  {
   "cell_type": "code",
   "execution_count": 25,
   "metadata": {},
   "outputs": [],
   "source": [
    "\n",
    "def generate_transportation_schedule(date):\n",
    "    # Simulate transportation availability\n",
    "    transportation_factor = random.choice([0.8, 1, 1.2])  # Reduced, normal, or increased availability\n",
    "    return transportation_factor\n"
   ]
  },
  {
   "cell_type": "markdown",
   "metadata": {},
   "source": [
    "**Purpose**: Simulates the availability of transportation, which can affect how easily staff can commute to the office. Factors less than 1 represent reduced availability, while factors greater than 1 indicate increased availability.\n",
    "\n",
    "### Weather Conditions"
   ]
  },
  {
   "cell_type": "code",
   "execution_count": 26,
   "metadata": {},
   "outputs": [],
   "source": [
    "\n",
    "def generate_weather_condition(date):\n",
    "   \n",
    "    # Define weather conditions for each season\n",
    "    spring_conditions = ['Sunny', 'Rainy']\n",
    "    winter_conditions = ['Sunny', 'Cloudy', 'Snow']\n",
    "    other_conditions = ['Sunny', 'Cloudy']\n",
    "\n",
    "    # Extract the month from the given date\n",
    "    month = date.month\n",
    "\n",
    "    # Determine the season based on the month\n",
    "    if month in [3, 4, 5]:  # Spring (March, April, May)\n",
    "        weather = random.choice(spring_conditions)\n",
    "    elif month in [12, 1, 2]:  # Winter (December, January, February)\n",
    "        weather = random.choice(winter_conditions)\n",
    "    else:  # Other months (June to November)\n",
    "        weather = random.choice(other_conditions)\n",
    "\n",
    "    return weather\n"
   ]
  },
  {
   "cell_type": "markdown",
   "metadata": {},
   "source": [
    "**Purpose**: Assigns weather conditions based on the season, influencing staff's decision to come to the office or participate in events.\n",
    "### Adjusting Attendance for External Factors\n"
   ]
  },
  {
   "cell_type": "code",
   "execution_count": 27,
   "metadata": {},
   "outputs": [],
   "source": [
    "\n",
    "def adjust_attendance_for_factors(staff_present, transportation_factor, weather):\n",
    "   \n",
    "    # Initialize the adjustment factor to 1 (no adjustment by default)\n",
    "    adjustment_factor = 1.0\n",
    "\n",
    "    # Determine the adjustment factor based on weather and transportation\n",
    "    if weather == 'Rainy' and transportation_factor < 1.0:\n",
    "        adjustment_factor = 0.7  # Decrease attendance by 30%\n",
    "    elif weather == 'Rainy':\n",
    "        adjustment_factor = 0.85  # Decrease attendance by 15%\n",
    "    elif weather == 'Sunny' and transportation_factor > 1.0:\n",
    "        adjustment_factor = 1.3  # Increase attendance by 30%\n",
    "    elif weather == 'Sunny':\n",
    "        adjustment_factor = 1.15  # Increase attendance by 15%\n",
    "\n",
    "    # Calculate the adjusted staff and client counts\n",
    "    adjusted_staff = int(staff_present * adjustment_factor)\n",
    "\n",
    "    return adjusted_staff\n"
   ]
  },
  {
   "cell_type": "markdown",
   "metadata": {},
   "source": [
    "**Purpose**: Adjusts the expected staff presence based on the day's weather and transportation availability, providing a nuanced view of potential office occupancy.\n",
    "## Daily Staff Attendance Simulation\n"
   ]
  },
  {
   "cell_type": "code",
   "execution_count": 28,
   "metadata": {},
   "outputs": [],
   "source": [
    "\n",
    "def daily_staff_attendance(date, hour, transportation_factor, weather, baseline_staff=None):\n",
    "    avg_staff = 30\n",
    "    std_dev = 5  \n",
    "\n",
    "    if baseline_staff is None:\n",
    "        baseline_staff = max(0, int(np.random.normal(avg_staff, std_dev)))\n",
    "\n",
    "    # Define a daily pattern for staff presence\n",
    "    daily_pattern = {\n",
    "        8: -1,  9: -1, 10: 0, 11: 2, 12: -5, 13: 4, 14: 3, 15: 3, 16: 1, 17: 0\n",
    "    }\n",
    "    # Apply the daily pattern to hourly fluctuations\n",
    "    hourly_fluctuation = daily_pattern.get(hour.hour, 0)\n",
    "\n",
    "    staff_present = max(0, baseline_staff + hourly_fluctuation)\n",
    "\n",
    "    adjusted_staff = adjust_attendance_for_factors(staff_present, transportation_factor, weather)\n",
    "    return [date, hour, adjusted_staff]\n",
    "\n"
   ]
  },
  {
   "cell_type": "markdown",
   "metadata": {},
   "source": [
    "**Purpose**: Generates hourly staff attendance data, incorporating fluctuations throughout the day and adjusting for external factors. This method simulates the dynamic nature of office occupancy, influenced by both internal schedules and external conditions.\n",
    "\n",
    "These simulations collectively enable a detailed and realistic prediction model for office occupancy, taking into account not just the internal factors like meetings and events but also the external influences of transportation and weather.\n",
    "\n",
    "## Simulating Meeting Room Bookings\n",
    "\n",
    "For a comprehensive understanding of office occupancy, it's essential to consider the use of meeting rooms throughout the workday. This section of our simulation focuses on generating data for meeting room bookings, reflecting how meetings are scheduled and attended in a typical office environment.\n",
    "\n",
    "#### Approach to Generating Meeting Room Bookings:"
   ]
  },
  {
   "cell_type": "code",
   "execution_count": 29,
   "metadata": {},
   "outputs": [],
   "source": [
    "\n",
    "\n",
    "\n",
    "def daily_meeting_room_bookings(date):\n",
    "    # Adjust probability based on the day of the week (e.g., more meetings on Mondays)\n",
    "    day_of_week = date.weekday()\n",
    "    base_probability = 0.8 if day_of_week == 0 else 0.4\n",
    "\n",
    "    # Generate a random number of bookings using a Poisson distribution\n",
    "    num_bookings = np.random.poisson(lam=base_probability * 5)\n",
    "\n",
    "    # Create a list of booking records\n",
    "    bookings = []\n",
    "    for _ in range(num_bookings):\n",
    "        # Generate a random time between 8:00 AM and 4:00 PM\n",
    "        h = random.randint(8, 16)\n",
    "        meeting_time = time(hour=h, minute=0, second=0)\n",
    "                        \n",
    "        \n",
    "        # Choose a random meeting duration (30, 60 or 180 minutes) and number of attendees (2 to 20)\n",
    "        duration = random.choice([30, 60, 180])\n",
    "        attendees = random.randint(2, 20)\n",
    "        \n",
    "        # Add the booking record to the list\n",
    "        bookings.append([date, meeting_time, duration, attendees])\n",
    "\n",
    "    return bookings\n",
    "    \n"
   ]
  },
  {
   "cell_type": "markdown",
   "metadata": {},
   "source": [
    "- **Probability Adjustment**: The likelihood of a meeting being scheduled varies with the day of the week, with Mondays typically seeing a higher number of meetings. This is modeled by adjusting the base probability of bookings.\n",
    "\n",
    "- **Meeting Details**: For each meeting, the start time, duration, and number of attendees are randomly determined. This introduces a realistic variance in meeting characteristics, from short check-ins to longer strategy sessions, and small team gatherings to larger departmental meetings.\n",
    "\n",
    "- **Data Output**: The function returns a list of booking records for a given day, with each record detailing the date, start time, duration, and attendees of a meeting.\n",
    "\n",
    "By incorporating this simulation into our dataset, we can better understand the dynamics of office space usage and more accurately predict overall occupancy levels. This data not only aids in forecasting but also in planning resources and managing office space effectively.\n",
    "\n",
    "## Simulating Event Activities within the Office\n",
    "\n",
    "Event activities, ranging from team-building exercises to training sessions, play a crucial role in determining daily office occupancy. This segment focuses on simulating these activities, taking into account seasonal variations to mirror the increased frequency of events during certain times of the year.\n",
    "\n",
    "#### Generating Data for Event Activities:"
   ]
  },
  {
   "cell_type": "code",
   "execution_count": 30,
   "metadata": {},
   "outputs": [],
   "source": [
    "def daily_event_activities(date):\n",
    "    # Adjust probability for seasonal variation (more events in summer)\n",
    "    month = date.month\n",
    "    base_probability = 0.4 if month in [6, 7, 8] else 0.1\n",
    "\n",
    "    if random.random() < base_probability:\n",
    "        # Generate a random start time during working hours (8:00 AM to 6:00 PM)\n",
    "        start_hour = random.randint(8, 17)  # 17 to ensure the event starts before 6:00 PM\n",
    "        start_time = time(hour=start_hour, minute=0, second=0)\n",
    "\n",
    "        event_type = random.choice(['Team Building', 'Client Meeting', 'Training Session', 'Celebration'])\n",
    "        expected_attendance = random.randint(5, 50)\n",
    "\n",
    "        return [[date, start_time, event_type, expected_attendance]]\n",
    "    \n",
    "    return []"
   ]
  },
  {
   "cell_type": "markdown",
   "metadata": {},
   "source": [
    "- **Seasonal Variation**: Recognizes that events are more likely during the summer months, adjusting probabilities to reflect this seasonal trend.\n",
    "\n",
    "- **Event Details**: For each event, the function randomly selects a start time, type, and expected attendance, ensuring a variety of events are represented in the synthetic dataset.\n",
    "\n",
    "- **Output**: Returns a list of event records for the specified date, with each record detailing the event's date, start time, type, and expected attendance. If no event is scheduled for a given day, an empty list is returned.\n",
    "\n",
    "Incorporating event activities into our occupancy simulation allows for a more dynamic and realistic representation of how office spaces are utilized. This data is instrumental in forecasting occupancy levels, facilitating effective space management, and enhancing the overall workplace environment.\n",
    "\n",
    "## Generating Yearly Synthetic Data for Office Occupancy\n",
    "\n",
    "To create a comprehensive dataset that captures the nuances of office occupancy throughout an entire year, we employ a function that generates synthetic data on a day-to-day basis. This function is versatile, capable of simulating staff attendance, meeting room bookings, and event activities, depending on the type of data generator passed to it.\n",
    "\n",
    "### Yearly Data Generation Process:"
   ]
  },
  {
   "cell_type": "code",
   "execution_count": 31,
   "metadata": {},
   "outputs": [],
   "source": [
    "\n",
    "work_hours = [time(hour=i, minute=0, second=0) for i in range(8, 18)]\n",
    "\n",
    "def generate_yearly_data(start_date, end_date, data_generator):\n",
    "    data = []\n",
    "    current_date = start_date\n",
    "    baseline_staff = None  # Initialize baseline staff for each day\n",
    "\n",
    "    while current_date <= end_date:\n",
    "        # Check if the current date is a weekend or a holiday\n",
    "        is_weekend_or_holiday = current_date.weekday() >= 5 or current_date in belgium_business_day.holidays\n",
    "        \n",
    "         # Skip weekends and holidays\n",
    "        if not is_weekend_or_holiday:\n",
    "            if data_generator == daily_staff_attendance:\n",
    "                # Generate transportation and weather factors once per day\n",
    "                transportation_factor = generate_transportation_schedule(current_date)\n",
    "                weather = generate_weather_condition(current_date)\n",
    "\n",
    "                for hour in work_hours:\n",
    "                    # Generate staff attendance data with adjustments for transportation and weather\n",
    "\n",
    "                    staff_data = data_generator(current_date, hour, transportation_factor, weather, baseline_staff)\n",
    "                    data.append(staff_data)\n",
    "            else:\n",
    "                 # Generate data for meeting room bookings or evening activities\n",
    "\n",
    "                daily_data = data_generator(current_date)\n",
    "                data.extend(daily_data)\n",
    "\n",
    "        current_date += pd.Timedelta(days=1)\n",
    "\n",
    "    return pd.DataFrame(data)\n",
    "\n",
    "\n",
    "\n"
   ]
  },
  {
   "cell_type": "markdown",
   "metadata": {},
   "source": [
    "- **Flexible Data Generation**: The function adapts to generate different types of data based on the data_generator argument, allowing for the simulation of various aspects of office occupancy.\n",
    "\n",
    "- **Daily Operations**: It iteratively generates data for each business day within the specified date range, skipping weekends and holidays to mirror real-world office activity.\n",
    "\n",
    "- **Adjustments for External Factors**: Specifically for staff attendance, it calculates daily adjustments based on transportation availability and weather conditions, providing a realistic depiction of factors influencing office occupancy.\n",
    "\n",
    "- **Output**: The function returns a pandas DataFrame containing the generated data, which can be further analyzed or used as input for predictive modeling.\n",
    "This approach to synthetic data generation offers a detailed and dynamic representation of office occupancy, essential for accurate forecasting and efficient office management strategies."
   ]
  },
  {
   "cell_type": "markdown",
   "metadata": {},
   "source": [
    "## Compiling and Exporting the Synthetic Office Occupancy Data\n",
    "\n",
    "After generating synthetic data for meeting room bookings, event activities, and staff attendance, we compile these datasets to cover an entire year, from January 1, 2023, to December 31, 2023. This comprehensive dataset provides a granular view of daily office occupancy, vital for occupancy prediction and space management.\n",
    "\n",
    "### Steps to Compile the Yearly Data:\n",
    "\n",
    "1. **Data Generation**: Utilizing the previously defined functions, we generate data for each category over the specified date range, ensuring a detailed and realistic simulation of office activities throughout the year.\n",
    "\n",
    "2. **Data Structuring**: For each dataset, we define appropriate column names to clearly represent the data. This includes details such as the date, start times, durations, and attendance figures, making the data intuitive and easy to analyze.\n",
    "\n",
    "3. **Data Exportation**: Each dataset is exported as a CSV file, allowing for easy storage, sharing, and further analysis. This step ensures the data is accessible for occupancy forecasting, planning, and decision-making processes.\n"
   ]
  },
  {
   "cell_type": "code",
   "execution_count": 32,
   "metadata": {},
   "outputs": [],
   "source": [
    "\n",
    "\n",
    "\n",
    "# Generate data for an entire year\n",
    "start_date = pd.Timestamp('2023-01-01')\n",
    "end_date = pd.Timestamp('2023-12-31')\n",
    "\n",
    "# Generate datasets\n",
    "meeting_room_bookings_year = generate_yearly_data(start_date, end_date, daily_meeting_room_bookings)\n",
    "event_activities_year = generate_yearly_data(start_date, end_date, daily_event_activities)\n",
    "staff_attendance_year = generate_yearly_data(start_date, end_date, daily_staff_attendance)\n",
    "\n",
    "# Define columns for the generated data\n",
    "\n",
    "meeting_room_bookings_year.columns = ['Date', 'Start Time', 'Duration (min)', 'Room Capacity' ]\n",
    "\n",
    "event_activities_year.columns = ['Date', 'Start Time', 'Event Type', 'Expected Attendance']\n",
    "staff_attendance_year.columns = ['Date', 'Report time', 'Bodies Present'] #, 'Transportation', 'Weather'  \n",
    "\n",
    "meeting_room_bookings_year.to_csv('./data/meeting_room_bookings_year.csv', index=False)\n",
    "event_activities_year.to_csv('./data/event_activities_year.csv', index=False)\n",
    "staff_attendance_year.to_csv('./data/staff_attendance_year.csv', index=False)\n"
   ]
  },
  {
   "cell_type": "markdown",
   "metadata": {},
   "source": [
    "### Exported Datasets:\n",
    "\n",
    "- **Meeting Room Bookings**: Contains records of all meeting room bookings, detailing the date, start time, duration, and room capacity.\n",
    "- **Event Activities**: Lists all event activities, providing the date, start time, event type, and expected attendance.\n",
    "- **Staff Attendance**: Shows daily staff attendance records, including the date, report time, and the number of bodies present.\n",
    "\n",
    "### Example Data Exportation Code:"
   ]
  },
  {
   "cell_type": "code",
   "execution_count": 33,
   "metadata": {},
   "outputs": [
    {
     "name": "stdout",
     "output_type": "stream",
     "text": [
      "Sample Meeting Room Bookings:\n",
      "         Date Start Time  Duration (min)  Room Capacity\n",
      "0 2023-01-03   11:00:00             180             11\n",
      "1 2023-01-04   09:00:00              60              6\n",
      "2 2023-01-05   12:00:00              60             14\n",
      "3 2023-01-06   09:00:00              60              3\n",
      "4 2023-01-06   12:00:00             180              3\n",
      "\n",
      "Sample Evening Activities:\n",
      "         Date Start Time        Event Type  Expected Attendance\n",
      "0 2023-01-13   11:00:00     Team Building                   11\n",
      "1 2023-01-16   12:00:00  Training Session                   41\n",
      "2 2023-02-01   11:00:00  Training Session                   33\n",
      "3 2023-02-13   16:00:00  Training Session                   36\n",
      "4 2023-03-21   15:00:00       Celebration                   49\n",
      "\n",
      "Sample Staff Attendance:\n",
      "         Date Report time  Bodies Present\n",
      "0 2023-01-02    08:00:00              39\n",
      "1 2023-01-02    09:00:00              31\n",
      "2 2023-01-02    10:00:00              34\n",
      "3 2023-01-02    11:00:00              29\n",
      "4 2023-01-02    12:00:00              20\n"
     ]
    }
   ],
   "source": [
    "\n",
    "# Display sample data\n",
    "print(\"Sample Meeting Room Bookings:\\n\", meeting_room_bookings_year.head())\n",
    "print(\"\\nSample Evening Activities:\\n\", event_activities_year.head())\n",
    "print(\"\\nSample Staff Attendance:\\n\", staff_attendance_year.head())"
   ]
  },
  {
   "cell_type": "markdown",
   "metadata": {},
   "source": [
    "- **Sample Meeting Room Bookings**:\n",
    "    [Displays the first few records of the meeting room bookings dataset]\n",
    "\n",
    "- **Sample Evening Activities**:\n",
    "    [Displays the first few records of the event activities dataset]\n",
    "\n",
    "- **Sample Staff Attendance**:\n",
    "    [Displays the first few records of the staff attendance dataset]\n",
    "\n",
    "This process not only highlights the depth and breadth of the synthetic data generated but also underscores the potential applications of such data in predicting office occupancy. By analyzing these datasets, organizations can gain valuable insights into occupancy patterns, enabling more informed decision-making regarding space utilization and office management.\n"
   ]
  },
  {
   "cell_type": "markdown",
   "metadata": {},
   "source": [
    "## Conclusion\n",
    "\n",
    "In this Jupyter notebook, we embarked on a comprehensive journey to generate synthetic data that simulates office occupancy, factoring in various real-world conditions such as meeting room bookings, event activities, and staff attendance. By incorporating external influences like transportation availability and weather conditions, we've created a dataset that closely mirrors the dynamic nature of office occupancy.\n",
    "\n",
    "### Key Takeaways:\n",
    "\n",
    "- **Customization and Realism**: Through the customization of holiday calendars, simulation of transportation and weather conditions, and the generation of detailed meeting and event data, we've laid the groundwork for highly realistic occupancy forecasting.\n",
    "- **Versatility of Data**: The generated data spans a full year, providing a rich dataset for training predictive models, such as Facebook's Prophet, to forecast office occupancy with a high degree of accuracy and reliability.\n",
    "- **Insights for Office Management**: The insights derived from analyzing this synthetic data can inform office space planning, resource allocation, and the overall management of office environments, leading to more efficient and effective utilization of space.\n",
    "\n",
    "### Future Directions:\n",
    "\n",
    "- **Predictive Modeling**: With the datasets in hand, the next step involves applying predictive modeling techniques to forecast future occupancy levels, enabling proactive office management.\n",
    "- **Data Enrichment**: Further enriching the dataset with additional variables or integrating real-world data could enhance the model's accuracy and applicability to various scenarios.\n",
    "- **Decision-Making Support**: The ultimate goal is to utilize the insights gained from occupancy predictions to support decision-making processes, from daily operations to long-term strategic planning.\n",
    "\n",
    "In conclusion, the process outlined in this notebook demonstrates the power of synthetic data in understanding and predicting office occupancy. By carefully simulating the complexities of office life, we pave the way for data-driven decisions that can significantly improve office management and employee satisfaction. As we move forward, the potential applications of this data in predictive analytics and AI will undoubtedly open new avenues for optimizing office environments in an ever-evolving workplace landscape.\n"
   ]
  }
 ],
 "metadata": {
  "kernelspec": {
   "display_name": "Python 3",
   "language": "python",
   "name": "python3"
  },
  "language_info": {
   "codemirror_mode": {
    "name": "ipython",
    "version": 3
   },
   "file_extension": ".py",
   "mimetype": "text/x-python",
   "name": "python",
   "nbconvert_exporter": "python",
   "pygments_lexer": "ipython3",
   "version": "3.11.5"
  },
  "orig_nbformat": 4,
  "vscode": {
   "interpreter": {
    "hash": "d42ed6c2631411982b253112b4fe2092a19a6ba7198a236ad68bb790dc496c90"
   }
  }
 },
 "nbformat": 4,
 "nbformat_minor": 2
}
